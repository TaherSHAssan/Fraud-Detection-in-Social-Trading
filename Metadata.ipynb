{
  "nbformat": 4,
  "nbformat_minor": 0,
  "metadata": {
    "colab": {
      "provenance": []
    },
    "kernelspec": {
      "name": "python3",
      "display_name": "Python 3"
    },
    "language_info": {
      "name": "python"
    }
  },
  "cells": [
    {
      "cell_type": "code",
      "source": [
        "import pandas as pd\n",
        "import numpy as np\n",
        "import joblib\n",
        "from sklearn.model_selection import train_test_split\n",
        "from sklearn.preprocessing import StandardScaler\n",
        "from sklearn.ensemble import RandomForestClassifier\n",
        "from sklearn.feature_extraction.text import TfidfVectorizer\n",
        "from scipy.sparse import hstack\n",
        "from sklearn.metrics import accuracy_score, precision_score, recall_score, f1_score\n",
        "\n",
        "# Load dataset\n",
        "file_path = \"..../balanced_fraud_metadata.csv\"\n",
        "df = pd.read_csv(file_path)\n",
        "\n",
        "# Drop missing values (if any)\n",
        "df = df.dropna()\n",
        "\n",
        "# Split Dataset\n",
        "X_metadata = df.drop(columns=[\"fraud_label\"])\n",
        "y = df[\"fraud_label\"]\n",
        "\n",
        "# Convert message text into numerical features using TF-IDF\n",
        "tfidf_vectorizer = TfidfVectorizer(max_features=5000, stop_words=\"english\", ngram_range=(1,2))\n",
        "X_text = tfidf_vectorizer.fit_transform(df[\"message\"])  # Convert text to numerical form\n",
        "\n",
        "# Standardize metadata features (except message)\n",
        "scaler = StandardScaler()\n",
        "X_metadata_scaled = scaler.fit_transform(X_metadata.drop(columns=[\"message\"]))  # Scale numerical features\n",
        "\n",
        "# Combine metadata + text features\n",
        "X_combined = hstack([X_metadata_scaled, X_text])  # Merge numerical and text features\n",
        "\n",
        "# Split dataset into training and testing sets\n",
        "X_train, X_test, y_train, y_test = train_test_split(X_combined, y, test_size=0.2, random_state=42)"
      ],
      "metadata": {
        "id": "uyBkUHDaeezf"
      },
      "execution_count": null,
      "outputs": []
    },
    {
      "cell_type": "code",
      "source": [
        "# Train a Random Forest model\n",
        "model = RandomForestClassifier(n_estimators=100, max_depth=10, min_samples_split=5, random_state=42)\n",
        "model.fit(X_train, y_train)\n",
        "\n",
        "# Make predictions\n",
        "y_pred = model.predict(X_test)\n",
        "\n",
        "# Evaluate model performance\n",
        "accuracy = accuracy_score(y_test, y_pred)\n",
        "precision = precision_score(y_test, y_pred)\n",
        "recall = recall_score(y_test, y_pred)\n",
        "f1 = f1_score(y_test, y_pred)\n",
        "\n",
        "print(f\"✅ Model Performance:\")\n",
        "print(f\"Accuracy: {accuracy:.4f}\")\n",
        "print(f\"Precision: {precision:.4f}\")\n",
        "print(f\"Recall: {recall:.4f}\")\n",
        "print(f\"F1 Score: {f1:.4f}\")"
      ],
      "metadata": {
        "id": "z0Y3EKMZefRP"
      },
      "execution_count": null,
      "outputs": []
    }
  ]
}