{
  "nbformat": 4,
  "nbformat_minor": 0,
  "metadata": {
    "colab": {
      "provenance": []
    },
    "kernelspec": {
      "name": "python3",
      "display_name": "Python 3"
    },
    "language_info": {
      "name": "python"
    }
  },
  "cells": [
    {
      "cell_type": "code",
      "execution_count": null,
      "metadata": {
        "id": "MAbbOoqbc_Xx"
      },
      "outputs": [],
      "source": [
        "# Initialize Tokenizer\n",
        "tokenizer = Tokenizer(num_words=10000, oov_token=\"<OOV>\")  # oov_token handles unknown words\n",
        "tokenizer.fit_on_texts(df_balanced[\"text\"])  # Fit tokenizer on text\n",
        "\n",
        "# Convert text to sequences\n",
        "sequences = tokenizer.texts_to_sequences(df_balanced[\"text\"])\n",
        "\n",
        "# Pad sequences to ensure consistent input length\n",
        "max_length = 200  # Ensure consistency with model input shape\n",
        "padded_sequences = pad_sequences(sequences, maxlen=max_length)\n",
        "\n",
        "# Save Tokenizer for future use\n",
        "joblib.dump(tokenizer, \"..../1vectorizer.pkl\")\n",
        "\n",
        "# Convert labels to NumPy array\n",
        "labels = np.array(df_balanced[\"label\"])\n",
        "\n",
        "# Print Tokenizer details\n",
        "print(f\"✅ Tokenizer Created! Vocabulary Size: {len(tokenizer.word_index)}\")\n",
        "print(f\"First Text Sequence: {sequences[0]}\")\n",
        "print(f\"Padded Sequence Shape: {padded_sequences.shape}\")"
      ]
    },
    {
      "cell_type": "code",
      "source": [
        "X_train, X_test, y_train, y_test = train_test_split(\n",
        "    padded_sequences, labels, test_size=0.2, random_state=42\n",
        ")\n",
        "\n",
        "print(f\"✅ Data Split! Training Samples: {len(X_train)}, Testing Samples: {len(X_test)}\")"
      ],
      "metadata": {
        "id": "kQ6_D39SeG__"
      },
      "execution_count": null,
      "outputs": []
    },
    {
      "cell_type": "code",
      "source": [
        "# Build the LSTM Model\n",
        "text_model = Sequential([\n",
        "    Embedding(10000, 128, input_length=max_length),  # Word Embeddings\n",
        "    LSTM(128, return_sequences=True),  # LSTM Layer 1\n",
        "    Dropout(0.4),  # Prevent Overfitting\n",
        "    LSTM(64, return_sequences=True),  # LSTM Layer 2\n",
        "    Dropout(0.4),\n",
        "    LSTM(32),  # LSTM Layer 3\n",
        "    Dropout(0.3),\n",
        "    Dense(1, activation='sigmoid')  # Output Layer (Binary Classification)\n",
        "])\n",
        "\n",
        "# Compile the model\n",
        "text_model.compile(optimizer='adam', loss='binary_crossentropy', metrics=['accuracy'])\n",
        "\n",
        "# Train the model\n",
        "text_model.fit(X_train, y_train, epochs=100, batch_size=8, validation_data=(X_test, y_test))\n",
        "\n",
        "# Save the trained model\n",
        "text_model.save(\"..../text_model1.h5\")\n",
        "print(\"✅ Text Fraud Detection Model Saved!\")"
      ],
      "metadata": {
        "id": "-QNcNeJbeJXP"
      },
      "execution_count": null,
      "outputs": []
    }
  ]
}