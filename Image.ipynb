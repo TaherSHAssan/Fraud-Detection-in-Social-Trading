{
  "nbformat": 4,
  "nbformat_minor": 0,
  "metadata": {
    "colab": {
      "provenance": []
    },
    "kernelspec": {
      "name": "python3",
      "display_name": "Python 3"
    },
    "language_info": {
      "name": "python"
    }
  },
  "cells": [
    {
      "cell_type": "code",
      "execution_count": null,
      "metadata": {
        "id": "MAbbOoqbc_Xx"
      },
      "outputs": [],
      "source": [
        "from tensorflow.keras.preprocessing.image import ImageDataGenerator\n",
        "from tensorflow.keras.models import Sequential\n",
        "from tensorflow.keras.layers import Conv2D, MaxPooling2D, Flatten, Dense, Dropout\n",
        "from tensorflow.keras.optimizers import Adam\n",
        "\n",
        "# Reload dataset\n",
        "frames_metadata = pd.read_csv(\".../balanced_frames_metadata.csv\")\n",
        "frames_metadata[\"label\"] = frames_metadata[\"label\"].astype(str)  # Convert labels to string\n",
        "\n",
        "# Image Data Generator with Augmentation\n",
        "datagen = ImageDataGenerator(\n",
        "    rescale=1./255,\n",
        "    validation_split=0.2,\n",
        "    rotation_range=20,   # Rotate images randomly\n",
        "    width_shift_range=0.2,  # Shift images left-right\n",
        "    height_shift_range=0.2,  # Shift images up-down\n",
        "    horizontal_flip=True  # Flip images\n",
        ")\n",
        "\n",
        "# Training Data Generator\n",
        "train_gen = datagen.flow_from_dataframe(\n",
        "    dataframe=frames_metadata,\n",
        "    directory=\".../extracted_frames/\",\n",
        "    x_col=\"frame_path\",\n",
        "    y_col=\"label\",\n",
        "    target_size=(128, 128),\n",
        "    batch_size=32,\n",
        "    class_mode='binary',\n",
        "    subset='training'\n",
        ")\n",
        "\n",
        "# Validation Data Generator\n",
        "val_gen = datagen.flow_from_dataframe(\n",
        "    dataframe=frames_metadata,\n",
        "    directory=\".../extracted_frames/\",\n",
        "    x_col=\"frame_path\",\n",
        "    y_col=\"label\",\n",
        "    target_size=(128, 128),\n",
        "    batch_size=32,\n",
        "    class_mode='binary',\n",
        "    subset='validation'\n",
        ")\n",
        "\n",
        "# Define CNN Model\n",
        "image_model = Sequential([\n",
        "    Conv2D(32, (3, 3), activation='relu', input_shape=(128, 128, 3)),\n",
        "    MaxPooling2D((2, 2)),\n",
        "    Conv2D(64, (3, 3), activation='relu'),\n",
        "    MaxPooling2D((2, 2)),\n",
        "    Flatten(),\n",
        "    Dense(128, activation='relu'),\n",
        "    Dropout(0.5),\n",
        "    Dense(1, activation='sigmoid')  # Binary classification (fraud/non-fraud)\n",
        "])\n",
        "\n",
        "image_model.compile(optimizer=Adam(learning_rate=0.001), loss='binary_crossentropy', metrics=['accuracy'])\n",
        "\n",
        "# Train the model\n",
        "image_model.fit(train_gen, validation_data=val_gen, epochs=10)\n",
        "\n",
        "# Save the trained CNN model\n",
        "image_model.save(\".../image_model.h5\")\n",
        "\n",
        "print(\"✅ Image Model Training Complete!\")"
      ]
    }
  ]
}